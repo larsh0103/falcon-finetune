{
 "cells": [
  {
   "attachments": {},
   "cell_type": "markdown",
   "metadata": {},
   "source": [
    "## Generate Custom Instruction Dataset for supervised finetuning of LLM's using langchain and GPT4 \n"
   ]
  },
  {
   "cell_type": "code",
   "execution_count": null,
   "metadata": {},
   "outputs": [],
   "source": [
    "import dotenv\n",
    "import os\n",
    "from langchain.llms import OpenAI\n",
    "from langchain.schema import (\n",
    "    AIMessage,\n",
    "    HumanMessage,\n",
    "    SystemMessage\n",
    ")\n",
    "from langchain.prompts.chat import (\n",
    "    ChatPromptTemplate,\n",
    "    SystemMessagePromptTemplate,\n",
    "    AIMessagePromptTemplate,\n",
    "    HumanMessagePromptTemplate,\n",
    ")\n",
    "from langchain.chat_models import ChatOpenAI\n",
    "import time\n",
    "# for local testing\n",
    "## Put your API key in config.env\n",
    "dotenv.load_dotenv(\"config.env\")\n",
    "\n",
    "OPEN_AI_API_KEY = os.environ.get(\"OPEN_AI_API_KEY\")"
   ]
  },
  {
   "cell_type": "code",
   "execution_count": null,
   "metadata": {},
   "outputs": [],
   "source": [
    "SystemMessages = {\"en-us\":\"some stuff\", \"nb-no\":\"You are an expert data generator, and your task is to help me generate a new data sample modeled on the given example. You generate data of dialogues between various people, and various contexts, familial, social, work and so on.\\n\\n\"}\n",
    "\n",
    "SystemMessagesEnd = {\"en-us\":\"some stuff\", \"nb-no\":\"\\n\\nPlease generate another data sample of a similiar sort, for different characters, and keep the language as Norwegian, and keep it oral and colloquial, so include filler words, and make it sound like something people would actually say not something you would read in a book. Make sure that data represents and accurate distribution real life dialogues. Return the data sample it in the following format:\\n\\n ###Human Human text prompt ###Assistant Assistant generated Full Dialogue\"}\n",
    "\n",
    "HumanMessages = {\"en-us\":\"some stuff\", \"nb-no\":\"Please generate another data sample of a similiar sort, for different characters, and keep the language as Norwegian, and keep it oral and colloquial, so include filler words. Make sure that data represents and accurate distribution real life dialogues by making sure some are positive, some negative and in general represent the full scope of the human condition And include a diverse set of characters,male, female and from different backgrounds. Return the data sample in the same format as the one above, in the following format, ingore the brackets:\\n\\n ###Human [Text prompt] ###Assistant [Full Dialogue] \\n\\n\"}"
   ]
  },
  {
   "cell_type": "code",
   "execution_count": null,
   "metadata": {},
   "outputs": [],
   "source": [
    "default_samples ={0: '### Human Please generate a dialogue about Ida and Vilde, two Norwegian girls in their early twenties. Keep it colloquial. ### Assistant Ida: Hei Vilde, lenge siden sist! Hvordan går det med deg?\\nVilde: Hei, Ida! Ja, det er kjempe lenge siden. Det går bra med meg, takk for at du spør. Hva med deg da?\\nIda: Åh, vet du, det har vært litt opp og ned, men nå begynner ting å se lysere ut. Jeg har begynt på et nytt dansekurs, og det er skikkelig gøy!\\nVilde: Å, det høres jo kjempegøy ut! Hva slags dans er det du lærer?\\nIda: Det er faktisk salsa! Jeg har alltid drømt om å lære meg det, og nå som jeg har muligheten, så kaster jeg meg bare ut i det.\\nVilde: Wow, det høres spennende ut! Kanskje du kan lære meg noen trinn en dag? Nå har jeg en liten nyhet å dele med deg også. Jeg har begynt å male igjen.\\nIda: Åh, det er jo helt fantastisk! Du var jo så flink før. Hva slags motiv maler du da?\\nVilde: Takk, du er så snill! Jeg har blitt veldig inspirert av naturen og landskapet i Norge, så det er mye fjell og skog i bildene mine nå for tiden.\\nIda: Det høres utrolig vakkert ut, Vilde. Jeg vil gjerne se dine malerier en dag! La oss ta en kaffe sammen og prate mer om det, hva synes du?\\nVilde: Ja, det høres ut som en super idé! Når passer det for deg?\\nIda: Hva med neste lørdag? Vi kunne møtes på den koselige kafeen i sentrum.\\nVilde: Perfekt! Da sees vi neste lørdag, gleder meg til å catche opp med deg, Ida! Ha en fin dag videre!\\nIda: Gleder meg også, Vilde! Ha en super dag! Vi ses snart',\n",
    " 1: '### Human Please generate a dialogue between Line and Tor, two Norwegians in their early thirties discussing their careers and hobbies. Keep it colloquial. ### Assistant Line: Hei Tor, hvordan har det vært med deg i det siste?\\nTor: Hei Line! Åh, det har vært ganske hektisk, ass. Men jeg liker det, da! Hvordan har det vært med deg?\\nLine: Det er bra å høre! Jeg har også hatt det veldig travelt, men jeg har fått noen nye interesser og hobbyer som hjelper meg å koble av. Har du noen nye hobbyer selv?\\nTor: Ja, jeg har begynt å gå på keramikkurs! Det er så gøy og avslappende, ass. Hva med deg, hva har du begynt med?\\nLine: Åh, det høres kult ut! Jeg har startet med pole-dance. Det er både en god treningsform og veldig gøy!\\nTor: Seriøst? Wow, det må jeg si, det er noe jeg aldri hadde trodd at du skulle drive med. Men det høres jo kjempeinteressant ut!\\nLine: Ja, det er faktisk veldig kult, og jeg har møtt mange nye mennesker gjennom det. Jeg har også fått en ny jobb som grafisk designer, så det tar også litt av fritiden min.\\nTor: Gratulerer med ny jobb! Det høres spennende ut. Hvordan går det med prosjektene dine?\\nLine: Takk, ass! Det går bra, jeg jobber med noen ganske interessante prosjekter. Jeg lærer mye hver dag og føler at jeg virkelig vokser i yrket. Hva med deg, hvordan går det med karrieren?\\nTor: Jo, vet du, jeg har fått en forfremmelse på jobben. Nå er jeg HR-leder, og det er litt stressende, men samtidig veldig givende. Jeg trives med det!\\nLine: Gratulerer så mye, Tor! Det er godt å høre at ting går bra for oss begge. Skal vi feire med en kaffe og prat?\\nTor: Ja, det gjør vi! Supert asså.',2: '### Human Please generate a dialogue about a job interview for an intern position between Stine, a Norwegian HR manager in her late thirties, and Andreas, a recent graduate. Keep it colloquial. ### Assistant\\nStine: Hei, Andreas! God å se deg. Hvordan har du det i dag?\\nAndreas: Hei, Stine! Det går bra, takk. Litt nervøs, men det er jo helt normalt, ikke sant?\\nStine: Absolutt! Det er helt normalt å være litt nervøs. Men bare slapp av, vi er her for å bli kjent med deg. Hvorfor ikke starte med å fortelle litt om deg selv?\\nAndreas: Joda, det kan jeg gjøre. Jeg er nyutdannet fra NTNU, hvor jeg studerte informatikk. Jeg har alltid vært interessert i teknologi, og jeg elsker å løse komplekse problemer. I tillegg til studiene mine har jeg jobbet deltid som webutvikler for et lite oppstartsselskap.\\nStine: Det høres spennende ut! Kan du fortelle meg litt mer om hva du gjorde i din rolle som webutvikler?\\nAndreas: Selvfølgelig. Jeg var ansvarlig for å designe og bygge nettsidene til selskapet. Jeg jobbet tett med produktteamet for å forstå deres behov, og jeg brukte HTML, CSS og JavaScript for å implementere designene. Jeg lærte mye om samarbeid og tidsstyring i prosessen.\\nStine: Det høres ut som en verdifull erfaring. Kan du nevne en spesifikk utfordring du møtte, og hvordan du overkom den?\\nAndreas: Joda, det var en gang da vi måtte redesigne nettsiden vår for å gjøre den mer brukervennlig. Vi hadde mange forskjellige idéer, og det var vanskelig å bestemme hvilken retning vi skulle ta. Men jeg satte sammen et lite team, og vi gjennomførte brukerundersøkelser og A/B-testing for å bestemme den mest effektive løsningen. Det var en stor suksess, og vi så en betydelig økning i brukerengasjementet etter redesignet.\\nStine: Det høres ut som du har gode lederegenskaper og evne til å ta initiativ. Hvordan ville du beskrive din arbeidsstil?\\nAndreas: Jeg vil si at jeg er veldig detaljorientert og liker å planlegge ting på forhånd. Jeg jobber best når jeg har en klar forståelse av hva som er forventet av meg. Men jeg er også fleksibel og kan tilpasse meg raskt når ting endrer seg.\\nStine: Det høres bra ut, Andreas. Jeg har noen flere spørsmål, men la oss ta en kort pause først. Vil du ha litt vann?\\nAndreas: Ja, takk, det ville vært fint.'}"
   ]
  },
  {
   "cell_type": "code",
   "execution_count": null,
   "metadata": {},
   "outputs": [],
   "source": [
    "\n",
    "async def generate_data_sample(chat,samples):\n",
    "\n",
    "    start = time.time()\n",
    "\n",
    "    messages = []\n",
    "    messages.append(SystemMessage(\n",
    "                content=SystemMessages[\"nb-no\"]))\n",
    "    messages.append(AIMessage(content=f\"{samples[0]} {HumanMessages['nb-no']}\"))\n",
    "            # add the prompt as the oldest message in the history\n",
    "    for i in range(min(len(samples),2)):\n",
    "        messages.append(AIMessage(content=samples[i]))\n",
    "    # print(messages)\n",
    "    response = await chat.agenerate([messages])\n",
    "    sample = response.generations[0][0].text\n",
    "    ## write data to json file where we have {\"sample_number\":sample_text} format\n",
    "    # print(sample)\n",
    "    return sample"
   ]
  },
  {
   "attachments": {},
   "cell_type": "markdown",
   "metadata": {},
   "source": [
    "### Generate some data and save it to a json"
   ]
  },
  {
   "cell_type": "code",
   "execution_count": null,
   "metadata": {},
   "outputs": [],
   "source": [
    "import asyncio\n",
    "from time import sleep\n",
    "samples=default_samples\n",
    "data = {}\n",
    "for i in range(50):\n",
    "    chat = ChatOpenAI(\n",
    "                model_name=\"gpt-4\",\n",
    "                temperature=0.9,\n",
    "                openai_api_key=OPEN_AI_API_KEY,\n",
    "                max_tokens=500,\n",
    "            )\n",
    "    tasks = [generate_data_sample(chat,samples) for i in range(10)]\n",
    "    outputs = await asyncio.gather(*tasks)\n",
    "    print(outputs)\n",
    "    # append output to data\n",
    "    # current len of data \n",
    "    current_len = len(data)\n",
    "    for i in range(len(outputs)):\n",
    "        data[i+current_len] = outputs[i]\n",
    "    sleep(5)\n",
    "    samples = outputs\n",
    "    outputs.append(default_samples[0])\n",
    "    \n",
    "# write data to json\n",
    "import json\n",
    "with open('big_data.json', 'w') as fp:\n",
    "    json.dump(data, fp)\n",
    "\n"
   ]
  },
  {
   "attachments": {},
   "cell_type": "markdown",
   "metadata": {},
   "source": [
    "### Convert data to hugging face format"
   ]
  },
  {
   "cell_type": "code",
   "execution_count": null,
   "metadata": {},
   "outputs": [],
   "source": [
    "\n",
    "import json\n",
    "from datasets import load_dataset\n",
    "\n",
    "# Read the JSON data\n",
    "with open('data.json') as f:\n",
    "    data = json.load(f)\n",
    "\n",
    "# Transform the data into a list of dictionaries, each with a single key-value pair\n",
    "transformed_data = [{\"id\": key, \"text\": value} for key, value in data.items()]\n",
    "\n",
    "# Save the transformed data to a new JSON file\n",
    "with open('transformed_data.json', 'w') as f:\n",
    "    for item in transformed_data:\n",
    "        json.dump(item, f)\n",
    "        f.write('\\n')\n"
   ]
  },
  {
   "cell_type": "code",
   "execution_count": null,
   "metadata": {},
   "outputs": [],
   "source": []
  }
 ],
 "metadata": {
  "kernelspec": {
   "display_name": "llm",
   "language": "python",
   "name": "python3"
  },
  "language_info": {
   "codemirror_mode": {
    "name": "ipython",
    "version": 3
   },
   "file_extension": ".py",
   "mimetype": "text/x-python",
   "name": "python",
   "nbconvert_exporter": "python",
   "pygments_lexer": "ipython3",
   "version": "3.10.9"
  },
  "orig_nbformat": 4
 },
 "nbformat": 4,
 "nbformat_minor": 2
}
